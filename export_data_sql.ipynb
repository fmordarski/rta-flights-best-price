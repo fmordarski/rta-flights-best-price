{
 "cells": [
  {
   "cell_type": "code",
   "execution_count": 47,
   "id": "0d1a93fb",
   "metadata": {},
   "outputs": [],
   "source": [
    "import pyspark\n",
    "from pyspark.sql import SparkSession\n",
    "import pyspark.sql.functions as f\n",
    "import mysql.connector\n",
    "import json"
   ]
  },
  {
   "cell_type": "code",
   "execution_count": 14,
   "id": "a2b2017d",
   "metadata": {},
   "outputs": [
    {
     "name": "stderr",
     "output_type": "stream",
     "text": [
      "c:\\users\\uzytkownik\\anaconda3\\envs\\spark_rta\\lib\\site-packages\\pyspark\\context.py:227: DeprecationWarning: Support for Python 2 and Python 3 prior to version 3.6 is deprecated as of Spark 3.0. See also the plan for dropping Python 2 support at https://spark.apache.org/news/plan-for-dropping-python-2-support.html.\n",
      "  DeprecationWarning)\n"
     ]
    }
   ],
   "source": [
    "spark = SparkSession.builder\\\n",
    "                    .config(\"spark.jars\", r'C:\\Program Files (x86)\\MySQL\\Connector J 8.0/mysql-connector-java-8.0.25.jar') \\\n",
    "                    .master(\"local\")\\\n",
    "                    .appName(\"PySpark_MySQL\")\\\n",
    "                    .getOrCreate()"
   ]
  },
  {
   "cell_type": "code",
   "execution_count": 15,
   "id": "63251d5e",
   "metadata": {},
   "outputs": [],
   "source": [
    "with open(\"data/data_02-06.json\", \"r\") as f:\n",
    "    data = json.load(f)"
   ]
  },
  {
   "cell_type": "code",
   "execution_count": 26,
   "id": "7801c1cf",
   "metadata": {},
   "outputs": [],
   "source": [
    "values = [(data[\"Origin\"][i], data[\"Destination\"][i], data[\"Price\"][i], \n",
    "           data[\"Date\"][i], data[\"Carrier\"][i]) for i in range(len(data[\"Origin\"]))]"
   ]
  },
  {
   "cell_type": "code",
   "execution_count": 29,
   "id": "38230944",
   "metadata": {
    "scrolled": true
   },
   "outputs": [],
   "source": [
    "df_spark = spark.createDataFrame(values, schema=[\"Origin\", \"Destination\", \"Price\", \"Date\", \"Carrier\"])"
   ]
  },
  {
   "cell_type": "code",
   "execution_count": 41,
   "id": "e39856d2",
   "metadata": {},
   "outputs": [],
   "source": [
    "grouped = df_spark.groupBy([\"Origin\", \"Destination\", \"Date\"])\\\n",
    "                  .agg(f.min(\"Price\").alias(\"Price\"))"
   ]
  },
  {
   "cell_type": "code",
   "execution_count": 42,
   "id": "a39b4b07",
   "metadata": {},
   "outputs": [],
   "source": [
    "grouped = grouped.join(df_spark, [\"Origin\", \"Destination\", \"Date\", \"Price\"], how=\"left\")"
   ]
  },
  {
   "cell_type": "code",
   "execution_count": 43,
   "id": "4904626d",
   "metadata": {
    "scrolled": true
   },
   "outputs": [
    {
     "name": "stdout",
     "output_type": "stream",
     "text": [
      "+--------------------+--------------------+----------+-----+----------------+\n",
      "|              Origin|         Destination|      Date|Price|         Carrier|\n",
      "+--------------------+--------------------+----------+-----+----------------+\n",
      "|            Alicante|               Ibiza|2021-07-18|  134|         Ryanair|\n",
      "|            Alicante|              Malaga|2021-07-26|  326|         Ryanair|\n",
      "|            Alicante|               Milan|2021-07-11|   72|         Ryanair|\n",
      "|            Alicante|        Milan Linate|2021-07-09|  233|         Ryanair|\n",
      "|            Alicante|                Nice|2021-07-10|  215|         Ryanair|\n",
      "|            Alicante|Paris Charles de ...|2021-07-27|  319|         easyJet|\n",
      "|            Alicante|                Rome|2021-07-02|   85|         Ryanair|\n",
      "|           Barcelona|            Bordeaux|2021-07-16|  139|Vueling Airlines|\n",
      "|           Barcelona|Catania Fontanarossa|2021-07-16|  139|Vueling Airlines|\n",
      "|           Barcelona|              Lisbon|2021-07-20|  201|Vueling Airlines|\n",
      "|                Bari|                Nice|2021-07-03|  161|         Ryanair|\n",
      "|                Bari|               Porto|2021-07-01|  139|         Ryanair|\n",
      "|Bologna Internati...|           Marseille|2021-07-13|   54|         Ryanair|\n",
      "|Bologna Internati...|           Marseille|2021-07-25|  179|         Ryanair|\n",
      "|Bologna Internati...|Naples International|2021-07-11|  139|         Ryanair|\n",
      "|Bologna Internati...|               Paris|2021-07-29|  183|      Air France|\n",
      "|Bologna Internati...|               Porto|2021-07-24|  125|         Ryanair|\n",
      "|Bologna Internati...|       Warsaw Modlin|2021-07-09|  116|         Ryanair|\n",
      "|            Bordeaux|                Bari|2021-07-02|   92|         Ryanair|\n",
      "|            Bordeaux|           Marseille|2021-07-09|  175|         Ryanair|\n",
      "+--------------------+--------------------+----------+-----+----------------+\n",
      "only showing top 20 rows\n",
      "\n"
     ]
    }
   ],
   "source": [
    "grouped.show()"
   ]
  },
  {
   "cell_type": "code",
   "execution_count": 49,
   "id": "17403945",
   "metadata": {},
   "outputs": [],
   "source": [
    "grouped.write.format('jdbc').option(\"url\", \"jdbc:mysql://localhost:3306/flights\") \\\n",
    "       .option(\"driver\", \"com.mysql.jdbc.Driver\").option(\"dbtable\", \"flights\") \\\n",
    "       .option(\"user\", \"admin\").option(\"password\", \"admin\").mode('append').save()"
   ]
  }
 ],
 "metadata": {
  "kernelspec": {
   "display_name": "Python 3",
   "language": "python",
   "name": "python3"
  },
  "language_info": {
   "codemirror_mode": {
    "name": "ipython",
    "version": 3
   },
   "file_extension": ".py",
   "mimetype": "text/x-python",
   "name": "python",
   "nbconvert_exporter": "python",
   "pygments_lexer": "ipython3",
   "version": "3.5.1"
  }
 },
 "nbformat": 4,
 "nbformat_minor": 5
}
