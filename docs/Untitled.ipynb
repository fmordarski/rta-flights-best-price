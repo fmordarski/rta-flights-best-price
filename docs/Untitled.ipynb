{
 "cells": [
  {
   "cell_type": "code",
   "execution_count": 14,
   "id": "db547adf",
   "metadata": {},
   "outputs": [],
   "source": [
    "from kafka import KafkaProducer\n",
    "from datetime import datetime, timedelta\n",
    "import random\n",
    "import json"
   ]
  },
  {
   "cell_type": "code",
   "execution_count": 15,
   "id": "763c1a35",
   "metadata": {},
   "outputs": [],
   "source": [
    "topic = 'flights'"
   ]
  },
  {
   "cell_type": "code",
   "execution_count": 16,
   "id": "05e2b1f3",
   "metadata": {
    "scrolled": true
   },
   "outputs": [],
   "source": [
    "producer = KafkaProducer(bootstrap_servers='localhost:9092',\n",
    "                         value_serializer=lambda x: json.dumps(x).encode(\"utf-8\"))"
   ]
  },
  {
   "cell_type": "code",
   "execution_count": 17,
   "id": "31084413",
   "metadata": {},
   "outputs": [
    {
     "data": {
      "text/plain": [
       "<kafka.producer.future.FutureRecordMetadata at 0x1f7cf0659e8>"
      ]
     },
     "execution_count": 17,
     "metadata": {},
     "output_type": "execute_result"
    }
   ],
   "source": [
    "message = {\n",
    "                \"time\": str(\n",
    "                    datetime.now() + timedelta(seconds=random.randint(-15, 0))\n",
    "                ),\n",
    "                \"id\": random.choice([\"a\", \"b\", \"c\", \"d\", \"e\"]),\n",
    "                \"value\": random.randint(0, 100),\n",
    "            }\n",
    "producer.send(topic, value=message)"
   ]
  }
 ],
 "metadata": {
  "kernelspec": {
   "display_name": "Python 3",
   "language": "python",
   "name": "python3"
  },
  "language_info": {
   "codemirror_mode": {
    "name": "ipython",
    "version": 3
   },
   "file_extension": ".py",
   "mimetype": "text/x-python",
   "name": "python",
   "nbconvert_exporter": "python",
   "pygments_lexer": "ipython3",
   "version": "3.8.5"
  }
 },
 "nbformat": 4,
 "nbformat_minor": 5
}
